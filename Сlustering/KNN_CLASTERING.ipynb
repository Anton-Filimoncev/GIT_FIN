{
 "cells": [
  {
   "cell_type": "code",
   "execution_count": 1,
   "metadata": {},
   "outputs": [],
   "source": [
    "# Machine learning libraries\n",
    "from sklearn.linear_model import LinearRegression\n",
    "from sklearn.preprocessing import StandardScaler\n",
    "from sklearn.impute import SimpleImputer\n",
    "from sklearn.model_selection import GridSearchCV\n",
    "from sklearn.pipeline import Pipeline\n",
    "import seaborn as sns\n",
    "from sklearn import linear_model, metrics\n",
    "import pickle\n",
    "\n",
    "# Plotting graphs\n",
    "import matplotlib.pyplot as plt\n",
    "\n",
    "# Machine learning\n",
    "from sklearn import metrics\n",
    "from sklearn.model_selection import cross_val_score\n",
    "\n",
    "from sklearn.linear_model import LogisticRegression\n",
    "# Data fetching\n",
    "from pandas_datareader import data as pdr\n",
    "import yfinance as yf\n",
    "yf.pdr_override()\n",
    "\n",
    "#date and time\n",
    "import datetime as dt\n",
    "current_date = dt.datetime.now()\n",
    "\n",
    "# Data Manipulation\n",
    "import numpy as np\n",
    "import pandas as pd"
   ]
  },
  {
   "cell_type": "code",
   "execution_count": 2,
   "metadata": {},
   "outputs": [],
   "source": [
    "ticker = 'AAPL'\n",
    "exchange = ''\n",
    "\n",
    "with open(f'''C:/Users/Anton/Desktop/Backtesting/BANKA/data_json_{ticker.replace(exchange, '')}.pickle''',  # УКАЗАТЬ СВОЙ ПУТЬ !!!!\n",
    "          'rb') as f:\n",
    "    data_json = pickle.load(f)\n",
    "\n",
    "with open(\n",
    "        f'''C:/Users/Anton/Desktop/Backtesting/BANKA/data_json_keyratios_{ticker.replace(exchange, '')}.pickle''',  # УКАЗАТЬ СВОЙ ПУТЬ !!!!\n",
    "        'rb') as f:\n",
    "    data_json_keyratios = pickle.load(f)\n",
    "\n",
    "#     print(data_json)\n",
    "try:\n",
    "    date_list = pd.Series(data_json['financials']['annuals']['Fiscal Year'])\n",
    "    keyratios = pd.DataFrame(data_json_keyratios['Fundamental'], index=[0])\n",
    "    income_df = pd.DataFrame(data_json['financials']['annuals']['income_statement']).set_index(\n",
    "        date_list).replace('No Debt', 0).replace('At Loss', 0).replace('-', 0).replace('', 0).replace('N/A',\n",
    "                                                                                                      0).astype(\n",
    "        float)\n",
    "    balance_df = pd.DataFrame(data_json['financials']['annuals']['balance_sheet']).set_index(date_list).replace(\n",
    "        'No Debt', 0).replace('At Loss', 0).replace('', 0).replace('-', 0).replace('N/A', 0).astype(float)\n",
    "    cashflow_df = pd.DataFrame(data_json['financials']['annuals']['cashflow_statement']).set_index(\n",
    "        date_list).replace('No Debt', 0).replace('At Loss', 0).replace('', 0).replace('-', 0).replace('N/A',\n",
    "                                                                                                      0).astype(\n",
    "        float)\n",
    "    valuation_ratios_df = pd.DataFrame(data_json['financials']['annuals']['valuation_ratios']).set_index(\n",
    "        date_list).replace('No Debt', 0).replace('At Loss', 0).replace('', 0).replace('-', 0).replace('N/A',\n",
    "                                                                                                      0).astype(\n",
    "        float)\n",
    "    valuation_and_quality_df = pd.DataFrame(\n",
    "        data_json['financials']['annuals']['valuation_and_quality']).set_index(date_list).drop(\n",
    "        ['Restated Filing Date', 'Filing Date', 'Earnings Release Date'], axis=1).replace('', 0).replace(\n",
    "        'No Debt', 0).replace('At Loss', 0).replace('-', 0).replace('N/A', 0).astype(float)\n",
    "    common_size_ratios_df = pd.DataFrame(data_json['financials']['annuals']['common_size_ratios']).set_index(\n",
    "        date_list).replace('No Debt', 0).replace('At Loss', 0).replace('', 0).replace('-', 0).replace('N/A',\n",
    "                                                                                                      0).replace(\n",
    "        'Negative Tangible Equity', 0).astype(float)\n",
    "    # per_share_data_array_df = pd.DataFrame(data_json['financials']['annuals']['per_share_data_array']).set_index(date_list).replace('-', 0).replace('N/A', 0).astype(float)\n",
    "    per_share_data_df = pd.DataFrame(data_json['financials']['annuals']['per_share_data_array']).set_index(\n",
    "        date_list).replace('', 0).replace('No Debt', 0).replace('-', 0).replace('N/A', 0).astype(float)\n",
    "\n",
    "    check = 1\n",
    "except:\n",
    "    check = 0\n",
    "    # print('Data error')\n",
    "    pass"
   ]
  },
  {
   "cell_type": "code",
   "execution_count": 3,
   "metadata": {},
   "outputs": [],
   "source": [
    "\n",
    "per_share_data_df.index.tolist()\n",
    "\n",
    "\n",
    "with open(f'C:/Users/Anton/Desktop/CODE_SMILE/BACKTESTING/YAHOOOOOO.pickle', 'rb') as f:  # УКАЗАТЬ СВОЙ ПУТЬ !!!!\n",
    "    price_yahoo_main = pickle.load(f)\n",
    "price_yahoo_main = price_yahoo_main['Adj Close'].fillna(method='backfill')"
   ]
  },
  {
   "cell_type": "code",
   "execution_count": 4,
   "metadata": {},
   "outputs": [
    {
     "name": "stdout",
     "output_type": "stream",
     "text": [
      "[*********************100%***********************]  1 of 1 completed\n"
     ]
    }
   ],
   "source": [
    "period = per_share_data_df.index.tolist()\n",
    "\n",
    "index = 'SPY'\n",
    "\n",
    "return_per_year_list = []\n",
    "index_return_per_year_list = []\n",
    "\n",
    "price_yahoo_dl = yf.download(index)['Adj Close'].fillna(method='backfill')\n",
    "\n",
    "for i in range(len(income_df)):\n",
    "    try:\n",
    "        year_return = price_yahoo_main[ticker][period[i].split('-')[0]].fillna(method='backfill').dropna()\n",
    "        index_year_return = price_yahoo_dl[period[i].split('-')[0]].fillna(method='backfill').dropna()\n",
    "        profit = (year_return.iloc[-1] - year_return.iloc[0]) / year_return.iloc[0]\n",
    "        index_profit = (index_year_return.iloc[-1] - index_year_return.iloc[0]) / index_year_return.iloc[0]\n",
    "#         print(profit)\n",
    "#         profit = profit.replace([np.inf, -np.inf], np.nan).dropna()\n",
    "        return_per_year_list.append(profit)\n",
    "        index_return_per_year_list.append(index_profit)\n",
    "        \n",
    "    except:\n",
    "        year_return = price_yahoo_main[ticker][str(int(period[-2].split('-')[0])+1)].fillna(method='backfill').dropna()\n",
    "        index_year_return = price_yahoo_dl[str(int(period[-2].split('-')[0])+1)].fillna(method='backfill').dropna()\n",
    "        profit = (year_return.iloc[-1] - year_return.iloc[0]) / year_return.iloc[0]\n",
    "        index_profit = (index_year_return.iloc[-1] - index_year_return.iloc[0]) / index_year_return.iloc[0]\n",
    "        \n",
    "#         print(price_yahoo_main[ticker][str(int(period[-2].split('-')[0])+1)])\n",
    "#         print(profit)\n",
    "#         profit = profit.replace([np.inf, -np.inf], np.nan).dropna()\n",
    "        return_per_year_list.append(profit)\n",
    "        index_return_per_year_list.append(index_profit)\n",
    "        \n",
    "    \n",
    "\n",
    "    \n",
    "DF_corr = pd.concat([per_share_data_df, common_size_ratios_df, valuation_and_quality_df, valuation_ratios_df, cashflow_df, balance_df, \\\n",
    "           income_df],axis=1, ignore_index=False)"
   ]
  },
  {
   "cell_type": "code",
   "execution_count": null,
   "metadata": {},
   "outputs": [],
   "source": []
  },
  {
   "cell_type": "code",
   "execution_count": 5,
   "metadata": {},
   "outputs": [],
   "source": [
    "# удаляем дубли\n",
    "DF_corr = DF_corr.T.groupby(level=0).first().T"
   ]
  },
  {
   "cell_type": "code",
   "execution_count": 6,
   "metadata": {},
   "outputs": [],
   "source": [
    "KNN_DF = income_df\n",
    "KNN_DF['Returns'] = return_per_year_list\n",
    "KNN_DF['INDEX Returns'] = index_return_per_year_list"
   ]
  },
  {
   "cell_type": "code",
   "execution_count": 7,
   "metadata": {},
   "outputs": [],
   "source": [
    "Y= np.where(KNN_DF['Returns']>KNN_DF['INDEX Returns'],1,0)\n",
    "X = DF_corr[['ROCE %','EV-to-EBITDA', 'YoY Rev. per Sh. Growth', 'Beneish M-Score', 'Interest Coverage', \\\n",
    "  'Change In Other Working Capital','Other Income (Expense)', 'PE Ratio without NRI', 'Asset Turnover', 'EV-to-Revenue',\\\n",
    " 'Shares Buyback Ratio %', 'Scaled Net Operating Assets', 'Equity-to-Asset']]\n"
   ]
  },
  {
   "cell_type": "markdown",
   "metadata": {},
   "source": [
    "# Оценка критериев отбора признаков"
   ]
  },
  {
   "cell_type": "code",
   "execution_count": 8,
   "metadata": {},
   "outputs": [],
   "source": [
    "from sklearn.feature_selection import SelectKBest\n",
    "from sklearn.feature_selection import f_classif\n",
    "\n",
    "# feature extraction\n",
    "\n",
    "test = SelectKBest(score_func=f_classif, k=4)\n",
    "\n",
    "fit = test.fit(X, Y)\n",
    "\n",
    "np.set_printoptions(precision=3)\n",
    "\n",
    "features = fit.transform(X)\n",
    "\n",
    "feat = dict(zip(X.columns.tolist(), fit.scores_))\n",
    "feach_f_score = pd.DataFrame(feat, index=[0])\n",
    "# feach_f_score.T.sort_values(feach_f_score.T[]) \n",
    "# feach_f_score.T[0].dropna().sort_values(ascending=False).head(30)\n",
    "\n",
    "TOP_feach = feach_f_score.T[0].dropna().sort_values(ascending=False)[:60].index.tolist()\n",
    "# feach_f_score"
   ]
  },
  {
   "cell_type": "code",
   "execution_count": 9,
   "metadata": {},
   "outputs": [],
   "source": [
    "X = DF_corr[TOP_feach]"
   ]
  },
  {
   "cell_type": "code",
   "execution_count": 10,
   "metadata": {},
   "outputs": [],
   "source": [
    "from sklearn.model_selection import train_test_split\n",
    "from sklearn.neighbors import KNeighborsClassifier\n",
    "from sklearn.metrics import accuracy_score"
   ]
  },
  {
   "cell_type": "code",
   "execution_count": 11,
   "metadata": {},
   "outputs": [],
   "source": [
    "x_train, x_test, y_train, y_test = train_test_split(X, \n",
    "                                                    Y,\n",
    "                                                    random_state=17) # random_state - для воспроизводимости"
   ]
  },
  {
   "cell_type": "markdown",
   "metadata": {},
   "source": [
    "# Выбираем лучшее количество кластеров"
   ]
  },
  {
   "cell_type": "code",
   "execution_count": 12,
   "metadata": {},
   "outputs": [
    {
     "name": "stdout",
     "output_type": "stream",
     "text": [
      "Accuracy_1: 0.5 n_neighbors: 1\n",
      "Accuracy_1: 0.25 n_neighbors: 2\n",
      "Accuracy_1: 0.25 n_neighbors: 3\n",
      "Accuracy_1: 0.375 n_neighbors: 4\n",
      "Accuracy_1: 0.375 n_neighbors: 5\n",
      "Accuracy_1: 0.375 n_neighbors: 6\n",
      "Accuracy_1: 0.5 n_neighbors: 7\n",
      "Accuracy_1: 0.375 n_neighbors: 8\n",
      "Accuracy_1: 0.5 n_neighbors: 9\n",
      "Accuracy_1: 0.375 n_neighbors: 10\n",
      "Accuracy_1: 0.5 n_neighbors: 11\n",
      "Accuracy_1: 0.5 n_neighbors: 12\n",
      "Accuracy_1: 0.5 n_neighbors: 13\n",
      "Accuracy_1: 0.5 n_neighbors: 14\n",
      "Accuracy_1: 0.5 n_neighbors: 15\n",
      "Accuracy_1: 0.75 n_neighbors: 16\n",
      "Accuracy_1: 0.625 n_neighbors: 17\n",
      "Accuracy_1: 0.625 n_neighbors: 18\n",
      "Accuracy_1: 0.625 n_neighbors: 19\n",
      "MAX Accuracy_1: 0.75\n",
      "n_neighbors Accuracy_1: 16\n"
     ]
    }
   ],
   "source": [
    "# accuracy_1 = accuracy_score(y_test, knn_prediction)\n",
    "# accuracy_1\n",
    "\n",
    "\n",
    "accuracy_1_max = 0\n",
    "accuracy_2_max = 0\n",
    "num1 = 0\n",
    "num2 = 0\n",
    "\n",
    "for i in range(1, 20):\n",
    "    knn = KNeighborsClassifier(n_neighbors=i)\n",
    "    knn_model_1 = knn.fit(x_train, y_train)\n",
    "    knn_predictions_1 = knn.predict(x_test)\n",
    "    accuracy_1 = accuracy_score(y_test, knn_predictions_1)\n",
    "    print(f'Accuracy_1: {accuracy_1}', 'n_neighbors:', i)\n",
    "    \n",
    "    if accuracy_1 > accuracy_1_max:\n",
    "        accuracy_1_max = accuracy_1\n",
    "        num1 = i\n",
    "\n",
    "print(f'MAX Accuracy_1: {accuracy_1_max}')    \n",
    "print(f'n_neighbors Accuracy_1: {num1}') "
   ]
  },
  {
   "cell_type": "code",
   "execution_count": 22,
   "metadata": {},
   "outputs": [
    {
     "data": {
      "text/plain": [
       "0.75"
      ]
     },
     "execution_count": 22,
     "metadata": {},
     "output_type": "execute_result"
    }
   ],
   "source": [
    "knn = KNeighborsClassifier(n_neighbors=16)\n",
    "\n",
    "knn_model = knn.fit(x_train, y_train)\n",
    "\n",
    "knn_prediction = knn.predict(x_test)\n",
    "accuracy_1 = accuracy_score(y_test, knn_prediction)\n",
    "accuracy_1\n",
    "\n",
    "\n",
    "# scat_mtrx = pd.plotting.scatter_matrix(X, c=Y, figsize=(25, 25), marker='o',\n",
    "#                                        hist_kwds={'bins': 20}, s=40, alpha=.8)"
   ]
  },
  {
   "cell_type": "code",
   "execution_count": 29,
   "metadata": {},
   "outputs": [
    {
     "data": {
      "text/plain": [
       "array([0, 0, 0, 0, 0, 0, 0, 0, 0, 0, 0, 0, 0, 0, 1, 0, 0, 1, 0, 1, 1, 1,\n",
       "       1, 1, 1, 0, 0, 1, 0, 1, 0])"
      ]
     },
     "execution_count": 29,
     "metadata": {},
     "output_type": "execute_result"
    }
   ],
   "source": [
    "knn_pred = knn.predict(X)\n",
    "knn_pred"
   ]
  },
  {
   "cell_type": "code",
   "execution_count": 24,
   "metadata": {},
   "outputs": [
    {
     "data": {
      "text/plain": [
       "array([0, 0, 0, 1, 0, 0, 0, 1, 1, 0, 1, 0, 1, 1, 1, 0, 1, 0, 1, 1, 1, 1,\n",
       "       0, 1, 0, 0, 1, 0, 1, 1, 0])"
      ]
     },
     "execution_count": 24,
     "metadata": {},
     "output_type": "execute_result"
    }
   ],
   "source": [
    "Y"
   ]
  },
  {
   "cell_type": "code",
   "execution_count": 32,
   "metadata": {},
   "outputs": [
    {
     "data": {
      "text/plain": [
       "<AxesSubplot:>"
      ]
     },
     "execution_count": 32,
     "metadata": {},
     "output_type": "execute_result"
    },
    {
     "data": {
      "image/png": "[encoded data removed]",
      "text/plain": [
       "<Figure size 1440x720 with 1 Axes>"
      ]
     },
     "metadata": {
      "needs_background": "light"
     },
     "output_type": "display_data"
    }
   ],
   "source": [
    "plot_df = pd.DataFrame()\n",
    "plot_df['Real'] = Y\n",
    "plot_df['Pred'] = knn_pred\n",
    "\n",
    "\n",
    "fig = plt.figure(figsize=(20, 10))\n",
    "ax = fig.add_subplot(111)\n",
    "plot_df['Real'].plot( ax=ax)\n",
    "plot_df['Pred'].plot( ax=ax, color='red')\n"
   ]
  },
  {
   "cell_type": "code",
   "execution_count": null,
   "metadata": {},
   "outputs": [],
   "source": []
  },
  {
   "cell_type": "code",
   "execution_count": 53,
   "metadata": {},
   "outputs": [
    {
     "name": "stdout",
     "output_type": "stream",
     "text": [
      "[17:28:22] WARNING: C:/Users/Administrator/workspace/xgboost-win64_release_1.4.0/src/learner.cc:1095: Starting in XGBoost 1.3.0, the default evaluation metric used with the objective 'binary:logistic' was changed from 'error' to 'logloss'. Explicitly set eval_metric if you'd like to restore the old behavior.\n"
     ]
    },
    {
     "data": {
      "text/plain": [
       "array([0.34 , 0.135, 0.162, 0.771, 0.138, 0.596, 0.385, 0.774, 0.854,\n",
       "       0.157, 0.862, 0.676, 0.822, 0.796, 0.871, 0.204, 0.789, 0.165,\n",
       "       0.468, 0.468, 0.654, 0.402, 0.11 , 0.3  , 0.11 , 0.113, 0.743,\n",
       "       0.331, 0.589, 0.738, 0.374], dtype=float32)"
      ]
     },
     "execution_count": 53,
     "metadata": {},
     "output_type": "execute_result"
    }
   ],
   "source": [
    "import xgboost as xgb\n",
    "\n",
    "dtrain = xgb.DMatrix(x_train, y_train)\n",
    "dtest = xgb.DMatrix(x_test, y_test)\n",
    "\n",
    "params = {'objective': 'binary:logistic',\n",
    "          'max_depth': 6,\n",
    "          'eta': 0.1}\n",
    "\n",
    "num_rounds = 30\n",
    "\n",
    "X_xgb = xgb.DMatrix(X, Y)\n",
    "\n",
    "xgb_model = xgb.train(params, dtrain, num_boost_round=num_rounds)\n",
    "\n",
    "\n",
    "xgb_pred = xgb_model.predict(X_xgb)\n",
    "xgb_pred"
   ]
  },
  {
   "cell_type": "code",
   "execution_count": 41,
   "metadata": {},
   "outputs": [
    {
     "name": "stdout",
     "output_type": "stream",
     "text": [
      "[17:13:59] WARNING: C:/Users/Administrator/workspace/xgboost-win64_release_1.4.0/src/learner.cc:1095: Starting in XGBoost 1.3.0, the default evaluation metric used with the objective 'binary:logistic' was changed from 'error' to 'logloss'. Explicitly set eval_metric if you'd like to restore the old behavior.\n",
      "[0]\ttest-logloss:0.68624\ttrain-logloss:0.65508\n",
      "[1]\ttest-logloss:0.67979\ttrain-logloss:0.62162\n",
      "[2]\ttest-logloss:0.67376\ttrain-logloss:0.59206\n",
      "[3]\ttest-logloss:0.66812\ttrain-logloss:0.56581\n",
      "[4]\ttest-logloss:0.66284\ttrain-logloss:0.54241\n",
      "[5]\ttest-logloss:0.67184\ttrain-logloss:0.51667\n",
      "[6]\ttest-logloss:0.66235\ttrain-logloss:0.49410\n",
      "[7]\ttest-logloss:0.69620\ttrain-logloss:0.46855\n",
      "[8]\ttest-logloss:0.73016\ttrain-logloss:0.44590\n",
      "[9]\ttest-logloss:0.72454\ttrain-logloss:0.42613\n",
      "[10]\ttest-logloss:0.73999\ttrain-logloss:0.41033\n",
      "[11]\ttest-logloss:0.77297\ttrain-logloss:0.39248\n",
      "[12]\ttest-logloss:0.80311\ttrain-logloss:0.37934\n",
      "[13]\ttest-logloss:0.79210\ttrain-logloss:0.36836\n",
      "[14]\ttest-logloss:0.82379\ttrain-logloss:0.35386\n",
      "[15]\ttest-logloss:0.85278\ttrain-logloss:0.34295\n",
      "[16]\ttest-logloss:0.88129\ttrain-logloss:0.33309\n",
      "[17]\ttest-logloss:0.87080\ttrain-logloss:0.32399\n",
      "[18]\ttest-logloss:0.89875\ttrain-logloss:0.31515\n",
      "[19]\ttest-logloss:0.90799\ttrain-logloss:0.30431\n",
      "[20]\ttest-logloss:0.90192\ttrain-logloss:0.29646\n",
      "[21]\ttest-logloss:0.89302\ttrain-logloss:0.28713\n",
      "[22]\ttest-logloss:0.91937\ttrain-logloss:0.27999\n",
      "[23]\ttest-logloss:0.89845\ttrain-logloss:0.27579\n",
      "[24]\ttest-logloss:0.89065\ttrain-logloss:0.26780\n",
      "[25]\ttest-logloss:0.88112\ttrain-logloss:0.26096\n",
      "[26]\ttest-logloss:0.87418\ttrain-logloss:0.25389\n",
      "[27]\ttest-logloss:0.85335\ttrain-logloss:0.24701\n",
      "[28]\ttest-logloss:0.84502\ttrain-logloss:0.24118\n",
      "[29]\ttest-logloss:0.82639\ttrain-logloss:0.23510\n"
     ]
    },
    {
     "data": {
      "text/plain": [
       "<AxesSubplot:title={'center':'Feature importance'}, xlabel='F score', ylabel='Features'>"
      ]
     },
     "execution_count": 41,
     "metadata": {},
     "output_type": "execute_result"
    },
    {
     "data": {
      "image/png": "[encoded data removed]",
      "text/plain": [
       "<Figure size 432x288 with 1 Axes>"
      ]
     },
     "metadata": {
      "needs_background": "light"
     },
     "output_type": "display_data"
    }
   ],
   "source": [
    "evals = [(dtest, 'test'), (dtrain, 'train')]\n",
    "xgb_model = xgb.train(params, dtrain, num_boost_round=num_rounds, evals=evals)\n",
    "xgb.plot_importance(xgb_model)"
   ]
  },
  {
   "cell_type": "code",
   "execution_count": 52,
   "metadata": {},
   "outputs": [
    {
     "data": {
      "text/plain": [
       "<AxesSubplot:>"
      ]
     },
     "execution_count": 52,
     "metadata": {},
     "output_type": "execute_result"
    },
    {
     "data": {
      "image/png": "[encoded data removed]",
      "text/plain": [
       "<Figure size 1440x720 with 1 Axes>"
      ]
     },
     "metadata": {
      "needs_background": "light"
     },
     "output_type": "display_data"
    }
   ],
   "source": [
    "plot_df = pd.DataFrame()\n",
    "plot_df['Real'] = Y\n",
    "plot_df['Pred'] = knn_pred\n",
    "plot_df['xgb_pred']  = xgb_pred\n",
    "\n",
    "\n",
    "fig = plt.figure(figsize=(20, 10))\n",
    "ax = fig.add_subplot(111)\n",
    "plot_df['Real'].plot( ax=ax)\n",
    "# plot_df['Pred'].plot( ax=ax, color='red')\n",
    "plot_df['xgb_pred'].round().plot( ax=ax, color='green')"
   ]
  },
  {
   "cell_type": "markdown",
   "metadata": {},
   "source": [
    "# K-means"
   ]
  },
  {
   "cell_type": "code",
   "execution_count": 39,
   "metadata": {},
   "outputs": [
    {
     "data": {
      "text/plain": [
       "0.375"
      ]
     },
     "execution_count": 39,
     "metadata": {},
     "output_type": "execute_result"
    }
   ],
   "source": [
    "import numpy as np\n",
    "from sklearn.cluster import KMeans\n",
    "\n",
    "\n",
    "kmeans_model = KMeans(n_clusters=4, random_state=17)\n",
    "kmeans_model = kmeans_model.fit(x_train, y_train)\n",
    "kmeans_prediction = kmeans_model.predict(x_test)\n",
    "accuracy_1 = accuracy_score(y_test, kmeans_prediction)\n",
    "accuracy_1"
   ]
  },
  {
   "cell_type": "markdown",
   "metadata": {},
   "source": [
    "# DBSCAN"
   ]
  },
  {
   "cell_type": "code",
   "execution_count": 31,
   "metadata": {},
   "outputs": [],
   "source": [
    "import pickle\n",
    "import numpy as np\n",
    "from sklearn.cluster import DBSCAN\n",
    "\n",
    "\n",
    "db = DBSCAN(eps=0.6, min_samples=2).fit(X)\n",
    "core_samples_mask = np.zeros_like(db.labels_, dtype=bool)\n",
    "core_samples_mask[db.core_sample_indices_] = True\n",
    "\n",
    "# labels = db.labels_\n",
    "\n",
    "# plt.scatter(X.iloc[:,:1], Y, s=40, c=kmeans_model.labels_, marker='o', alpha=0.8, label='data')\n",
    "# plt.show()"
   ]
  },
  {
   "cell_type": "code",
   "execution_count": null,
   "metadata": {},
   "outputs": [],
   "source": []
  },
  {
   "cell_type": "code",
   "execution_count": null,
   "metadata": {},
   "outputs": [],
   "source": []
  },
  {
   "cell_type": "code",
   "execution_count": null,
   "metadata": {},
   "outputs": [],
   "source": []
  },
  {
   "cell_type": "code",
   "execution_count": null,
   "metadata": {},
   "outputs": [],
   "source": []
  },
  {
   "cell_type": "code",
   "execution_count": null,
   "metadata": {},
   "outputs": [],
   "source": []
  },
  {
   "cell_type": "code",
   "execution_count": null,
   "metadata": {},
   "outputs": [],
   "source": []
  },
  {
   "cell_type": "code",
   "execution_count": null,
   "metadata": {},
   "outputs": [],
   "source": []
  },
  {
   "cell_type": "code",
   "execution_count": null,
   "metadata": {},
   "outputs": [],
   "source": []
  },
  {
   "cell_type": "code",
   "execution_count": null,
   "metadata": {},
   "outputs": [],
   "source": []
  },
  {
   "cell_type": "code",
   "execution_count": null,
   "metadata": {},
   "outputs": [],
   "source": []
  },
  {
   "cell_type": "code",
   "execution_count": null,
   "metadata": {},
   "outputs": [],
   "source": []
  },
  {
   "cell_type": "code",
   "execution_count": null,
   "metadata": {},
   "outputs": [],
   "source": []
  },
  {
   "cell_type": "code",
   "execution_count": null,
   "metadata": {},
   "outputs": [],
   "source": []
  },
  {
   "cell_type": "code",
   "execution_count": null,
   "metadata": {},
   "outputs": [],
   "source": []
  },
  {
   "cell_type": "code",
   "execution_count": null,
   "metadata": {},
   "outputs": [],
   "source": []
  },
  {
   "cell_type": "code",
   "execution_count": 2,
   "metadata": {},
   "outputs": [
    {
     "name": "stdout",
     "output_type": "stream",
     "text": [
      "[*********************100%***********************]  1 of 1 completed\n",
      "[*********************100%***********************]  1 of 1 completed\n",
      "[*********************100%***********************]  1 of 1 completed\n",
      "<class 'pandas.core.frame.DataFrame'>\n",
      "DatetimeIndex: 2091 entries, 2012-12-31 to 2021-07-14\n",
      "Data columns (total 5 columns):\n",
      " #   Column  Non-Null Count  Dtype  \n",
      "---  ------  --------------  -----  \n",
      " 0   Open    2091 non-null   float64\n",
      " 1   High    2091 non-null   float64\n",
      " 2   Low     2091 non-null   float64\n",
      " 3   Close   2091 non-null   float64\n",
      " 4   Volume  2091 non-null   int64  \n",
      "dtypes: float64(4), int64(1)\n",
      "memory usage: 98.0 KB\n"
     ]
    }
   ],
   "source": [
    "# Read the data\n",
    "Df = yf.download('^NSEI', '2012-12-31', current_date, auto_adjust=True)\n",
    "Df2 = yf.download('SPY', '2012-12-31', current_date, auto_adjust=True)\n",
    "Df3 = yf.download('^IRX', '2012-12-31', current_date, auto_adjust=True)\n",
    "\n",
    "Df.info()"
   ]
  },
  {
   "cell_type": "markdown",
   "metadata": {},
   "source": [
    "# фичи"
   ]
  },
  {
   "cell_type": "code",
   "execution_count": 3,
   "metadata": {},
   "outputs": [],
   "source": [
    "# Calculate 3-day moving average of close prices\n",
    "Df['S_3'] = Df['Close'].shift(1).rolling(window=3).mean()\n",
    "\n",
    "# Calculate 15-day moving average of close prices\n",
    "Df['S_15'] = Df['Close'].shift(1).rolling(window=15).mean()\n",
    "\n",
    "# Calculate 60-day moving average of close prices\n",
    "Df['S_60'] = Df['Close'].shift(1).rolling(window=60).mean()\n",
    "\n",
    "# Calculate the correlation between close price and 3 day moving average\n",
    "Df['Corr'] = Df['Close'].shift(1).rolling(window=10).corr(Df['S_3'].shift(1))\n",
    "\n",
    "Df['Close_Y'] = Df['Close']\n",
    "# Df['Std_D'] = Df['Open']-Df['Low']\n",
    "\n",
    "Df['OD'] = Df['Open']-Df['Open'].shift(1)\n",
    "Df['OL'] = Df['Open']-Df['Close'].shift(1)\n",
    "# \n",
    "Df['SPY'] = Df2['Close'] \n",
    "\n",
    "Df['Treasury'] = Df3['Close'] \n",
    "\n"
   ]
  },
  {
   "cell_type": "code",
   "execution_count": 4,
   "metadata": {},
   "outputs": [],
   "source": [
    "X = Df[['Open', 'S_3', 'S_15', 'S_60', 'OD', 'OL', 'Corr', 'SPY', 'Treasury']]\n",
    "# X = Df[['SPY']]\n"
   ]
  },
  {
   "cell_type": "code",
   "execution_count": 5,
   "metadata": {},
   "outputs": [],
   "source": [
    "yU = Df['Close_Y']"
   ]
  },
  {
   "cell_type": "code",
   "execution_count": 6,
   "metadata": {},
   "outputs": [],
   "source": [
    "imp = SimpleImputer(missing_values = np.nan, strategy='most_frequent')\n",
    "steps = [('imputation', imp),\n",
    "         ('scaler',StandardScaler()),\n",
    "         ('linear',LinearRegression())]     \n",
    "pipeline = Pipeline(steps)"
   ]
  },
  {
   "cell_type": "code",
   "execution_count": 7,
   "metadata": {},
   "outputs": [],
   "source": [
    "parameters = {'linear__fit_intercept':[0,1]}"
   ]
  },
  {
   "cell_type": "code",
   "execution_count": 8,
   "metadata": {},
   "outputs": [],
   "source": [
    "reg = GridSearchCV(pipeline, parameters, cv=5)"
   ]
  },
  {
   "cell_type": "code",
   "execution_count": 9,
   "metadata": {},
   "outputs": [
    {
     "data": {
      "text/plain": [
       "GridSearchCV(cv=5,\n",
       "             estimator=Pipeline(steps=[('imputation',\n",
       "                                        SimpleImputer(strategy='most_frequent')),\n",
       "                                       ('scaler', StandardScaler()),\n",
       "                                       ('linear', LinearRegression())]),\n",
       "             param_grid={'linear__fit_intercept': [0, 1]})"
      ]
     },
     "execution_count": 9,
     "metadata": {},
     "output_type": "execute_result"
    }
   ],
   "source": [
    "t = .7\n",
    "split = int(t*len(Df))\n",
    "reg.fit(X[:split],yU[:split])"
   ]
  },
  {
   "cell_type": "code",
   "execution_count": 10,
   "metadata": {},
   "outputs": [
    {
     "data": {
      "text/plain": [
       "1"
      ]
     },
     "execution_count": 10,
     "metadata": {},
     "output_type": "execute_result"
    }
   ],
   "source": [
    "best_fit = reg.best_params_['linear__fit_intercept']\n",
    "best_fit"
   ]
  },
  {
   "cell_type": "code",
   "execution_count": 11,
   "metadata": {},
   "outputs": [],
   "source": [
    "reg = LinearRegression(fit_intercept=best_fit)"
   ]
  },
  {
   "cell_type": "code",
   "execution_count": 12,
   "metadata": {},
   "outputs": [],
   "source": [
    "X = imp.fit_transform(X,yU)"
   ]
  },
  {
   "cell_type": "code",
   "execution_count": null,
   "metadata": {},
   "outputs": [],
   "source": []
  },
  {
   "cell_type": "code",
   "execution_count": 13,
   "metadata": {},
   "outputs": [],
   "source": [
    "reg.fit(X[:split], yU[:split])\n",
    "y_predict = reg.predict(X)\n",
    "\n",
    "# Assign the predicted values to a new column in the dataframe\n",
    "Df.reset_index(inplace=True)\n",
    "\n",
    "Df['Predict close'] = y_predict\n",
    "# Df.loc[Df['Predict close'] < 0, 'Predict close'] = 0"
   ]
  },
  {
   "cell_type": "code",
   "execution_count": 14,
   "metadata": {},
   "outputs": [
    {
     "name": "stdout",
     "output_type": "stream",
     "text": [
      "<class 'pandas.core.frame.DataFrame'>\n",
      "RangeIndex: 2091 entries, 0 to 2090\n",
      "Data columns (total 16 columns):\n",
      " #   Column         Non-Null Count  Dtype         \n",
      "---  ------         --------------  -----         \n",
      " 0   Date           2091 non-null   datetime64[ns]\n",
      " 1   Open           2091 non-null   float64       \n",
      " 2   High           2091 non-null   float64       \n",
      " 3   Low            2091 non-null   float64       \n",
      " 4   Close          2091 non-null   float64       \n",
      " 5   Volume         2091 non-null   int64         \n",
      " 6   S_3            2088 non-null   float64       \n",
      " 7   S_15           2076 non-null   float64       \n",
      " 8   S_60           2031 non-null   float64       \n",
      " 9   Corr           2078 non-null   float64       \n",
      " 10  Close_Y        2091 non-null   float64       \n",
      " 11  OD             2090 non-null   float64       \n",
      " 12  OL             2090 non-null   float64       \n",
      " 13  SPY            2038 non-null   float64       \n",
      " 14  Treasury       1628 non-null   float64       \n",
      " 15  Predict close  2091 non-null   float64       \n",
      "dtypes: datetime64[ns](1), float64(14), int64(1)\n",
      "memory usage: 261.5 KB\n"
     ]
    }
   ],
   "source": [
    "Df.info()"
   ]
  },
  {
   "cell_type": "code",
   "execution_count": 15,
   "metadata": {},
   "outputs": [
    {
     "data": {
      "image/png": "[encoded data removed]",
      "text/plain": [
       "<Figure size 720x360 with 1 Axes>"
      ]
     },
     "metadata": {
      "needs_background": "light"
     },
     "output_type": "display_data"
    }
   ],
   "source": [
    "\n",
    "\n",
    "Df['Predict close'][split:].plot(figsize=(10, 5))\n",
    "Df['Close'][split:].plot(figsize=(10, 5))\n",
    "plt.ylabel(\"Close Price\")\n",
    "plt.show()"
   ]
  },
  {
   "cell_type": "markdown",
   "metadata": {},
   "source": [
    "# Логистическая регрессия\n"
   ]
  },
  {
   "cell_type": "code",
   "execution_count": 16,
   "metadata": {},
   "outputs": [
    {
     "name": "stdout",
     "output_type": "stream",
     "text": [
      "[*********************100%***********************]  1 of 1 completed\n",
      "<class 'pandas.core.frame.DataFrame'>\n",
      "DatetimeIndex: 2091 entries, 2012-12-31 to 2021-07-14\n",
      "Data columns (total 4 columns):\n",
      " #   Column  Non-Null Count  Dtype  \n",
      "---  ------  --------------  -----  \n",
      " 0   Open    2091 non-null   float64\n",
      " 1   High    2091 non-null   float64\n",
      " 2   Low     2091 non-null   float64\n",
      " 3   Close   2091 non-null   float64\n",
      "dtypes: float64(4)\n",
      "memory usage: 81.7 KB\n"
     ]
    }
   ],
   "source": [
    "df = pdr.get_data_yahoo('^NSEI', '2012-12-31', current_date)\n",
    "df = df.fillna(method='backfill')\n",
    "df = df.iloc[:,:4]\n",
    "df.info()"
   ]
  },
  {
   "cell_type": "code",
   "execution_count": 17,
   "metadata": {},
   "outputs": [
    {
     "data": {
      "text/html": [
       "<div>\n",
       "<style scoped>\n",
       "    .dataframe tbody tr th:only-of-type {\n",
       "        vertical-align: middle;\n",
       "    }\n",
       "\n",
       "    .dataframe tbody tr th {\n",
       "        vertical-align: top;\n",
       "    }\n",
       "\n",
       "    .dataframe thead th {\n",
       "        text-align: right;\n",
       "    }\n",
       "</style>\n",
       "<table border=\"1\" class=\"dataframe\">\n",
       "  <thead>\n",
       "    <tr style=\"text-align: right;\">\n",
       "      <th></th>\n",
       "      <th>Open</th>\n",
       "      <th>High</th>\n",
       "      <th>Low</th>\n",
       "      <th>Close</th>\n",
       "      <th>S_3</th>\n",
       "      <th>S_10</th>\n",
       "      <th>Corr</th>\n",
       "      <th>RSI</th>\n",
       "      <th>Open-Close</th>\n",
       "    </tr>\n",
       "    <tr>\n",
       "      <th>Date</th>\n",
       "      <th></th>\n",
       "      <th></th>\n",
       "      <th></th>\n",
       "      <th></th>\n",
       "      <th></th>\n",
       "      <th></th>\n",
       "      <th></th>\n",
       "      <th></th>\n",
       "      <th></th>\n",
       "    </tr>\n",
       "  </thead>\n",
       "  <tbody>\n",
       "    <tr>\n",
       "      <th>2012-12-31</th>\n",
       "      <td>5901.200195</td>\n",
       "      <td>5919.000000</td>\n",
       "      <td>5897.149902</td>\n",
       "      <td>5905.100098</td>\n",
       "      <td>5969.283366</td>\n",
       "      <td>5982.959961</td>\n",
       "      <td>0.475179</td>\n",
       "      <td>74.610074</td>\n",
       "      <td>77.500000</td>\n",
       "    </tr>\n",
       "    <tr>\n",
       "      <th>2013-01-02</th>\n",
       "      <td>5982.600098</td>\n",
       "      <td>6006.049805</td>\n",
       "      <td>5982.000000</td>\n",
       "      <td>5993.250000</td>\n",
       "      <td>5969.283366</td>\n",
       "      <td>5982.959961</td>\n",
       "      <td>0.475179</td>\n",
       "      <td>74.610074</td>\n",
       "      <td>77.500000</td>\n",
       "    </tr>\n",
       "    <tr>\n",
       "      <th>2013-01-03</th>\n",
       "      <td>6015.799805</td>\n",
       "      <td>6017.000000</td>\n",
       "      <td>5986.549805</td>\n",
       "      <td>6009.500000</td>\n",
       "      <td>5969.283366</td>\n",
       "      <td>5982.959961</td>\n",
       "      <td>0.475179</td>\n",
       "      <td>74.610074</td>\n",
       "      <td>22.549805</td>\n",
       "    </tr>\n",
       "    <tr>\n",
       "      <th>2013-01-04</th>\n",
       "      <td>6011.950195</td>\n",
       "      <td>6020.750000</td>\n",
       "      <td>5981.549805</td>\n",
       "      <td>6016.149902</td>\n",
       "      <td>6006.299967</td>\n",
       "      <td>5982.959961</td>\n",
       "      <td>0.475179</td>\n",
       "      <td>74.610074</td>\n",
       "      <td>2.450195</td>\n",
       "    </tr>\n",
       "    <tr>\n",
       "      <th>2013-01-07</th>\n",
       "      <td>6042.149902</td>\n",
       "      <td>6042.149902</td>\n",
       "      <td>5977.149902</td>\n",
       "      <td>5988.399902</td>\n",
       "      <td>6004.683268</td>\n",
       "      <td>5982.959961</td>\n",
       "      <td>0.475179</td>\n",
       "      <td>74.610074</td>\n",
       "      <td>26.000000</td>\n",
       "    </tr>\n",
       "    <tr>\n",
       "      <th>...</th>\n",
       "      <td>...</td>\n",
       "      <td>...</td>\n",
       "      <td>...</td>\n",
       "      <td>...</td>\n",
       "      <td>...</td>\n",
       "      <td>...</td>\n",
       "      <td>...</td>\n",
       "      <td>...</td>\n",
       "      <td>...</td>\n",
       "    </tr>\n",
       "    <tr>\n",
       "      <th>2021-07-08</th>\n",
       "      <td>15855.400391</td>\n",
       "      <td>15885.750000</td>\n",
       "      <td>15682.900391</td>\n",
       "      <td>15727.900391</td>\n",
       "      <td>15808.600260</td>\n",
       "      <td>15780.735059</td>\n",
       "      <td>0.558481</td>\n",
       "      <td>49.651225</td>\n",
       "      <td>-24.250000</td>\n",
       "    </tr>\n",
       "    <tr>\n",
       "      <th>2021-07-09</th>\n",
       "      <td>15688.250000</td>\n",
       "      <td>15730.849609</td>\n",
       "      <td>15632.750000</td>\n",
       "      <td>15689.799805</td>\n",
       "      <td>15765.783529</td>\n",
       "      <td>15763.680078</td>\n",
       "      <td>0.594061</td>\n",
       "      <td>46.781734</td>\n",
       "      <td>-39.650391</td>\n",
       "    </tr>\n",
       "    <tr>\n",
       "      <th>2021-07-12</th>\n",
       "      <td>15766.799805</td>\n",
       "      <td>15789.200195</td>\n",
       "      <td>15644.750000</td>\n",
       "      <td>15692.599609</td>\n",
       "      <td>15703.433268</td>\n",
       "      <td>15751.470020</td>\n",
       "      <td>0.608713</td>\n",
       "      <td>47.031680</td>\n",
       "      <td>77.000000</td>\n",
       "    </tr>\n",
       "    <tr>\n",
       "      <th>2021-07-13</th>\n",
       "      <td>15794.000000</td>\n",
       "      <td>15820.799805</td>\n",
       "      <td>15744.599609</td>\n",
       "      <td>15812.349609</td>\n",
       "      <td>15731.583008</td>\n",
       "      <td>15757.859961</td>\n",
       "      <td>0.556805</td>\n",
       "      <td>56.696835</td>\n",
       "      <td>101.400391</td>\n",
       "    </tr>\n",
       "    <tr>\n",
       "      <th>2021-07-14</th>\n",
       "      <td>15808.700195</td>\n",
       "      <td>15877.349609</td>\n",
       "      <td>15764.200195</td>\n",
       "      <td>15853.950195</td>\n",
       "      <td>15786.299805</td>\n",
       "      <td>15771.104980</td>\n",
       "      <td>0.592572</td>\n",
       "      <td>59.546109</td>\n",
       "      <td>-3.649414</td>\n",
       "    </tr>\n",
       "  </tbody>\n",
       "</table>\n",
       "<p>2091 rows × 9 columns</p>\n",
       "</div>"
      ],
      "text/plain": [
       "                    Open          High           Low         Close  \\\n",
       "Date                                                                 \n",
       "2012-12-31   5901.200195   5919.000000   5897.149902   5905.100098   \n",
       "2013-01-02   5982.600098   6006.049805   5982.000000   5993.250000   \n",
       "2013-01-03   6015.799805   6017.000000   5986.549805   6009.500000   \n",
       "2013-01-04   6011.950195   6020.750000   5981.549805   6016.149902   \n",
       "2013-01-07   6042.149902   6042.149902   5977.149902   5988.399902   \n",
       "...                  ...           ...           ...           ...   \n",
       "2021-07-08  15855.400391  15885.750000  15682.900391  15727.900391   \n",
       "2021-07-09  15688.250000  15730.849609  15632.750000  15689.799805   \n",
       "2021-07-12  15766.799805  15789.200195  15644.750000  15692.599609   \n",
       "2021-07-13  15794.000000  15820.799805  15744.599609  15812.349609   \n",
       "2021-07-14  15808.700195  15877.349609  15764.200195  15853.950195   \n",
       "\n",
       "                     S_3          S_10      Corr        RSI  Open-Close  \n",
       "Date                                                                     \n",
       "2012-12-31   5969.283366   5982.959961  0.475179  74.610074   77.500000  \n",
       "2013-01-02   5969.283366   5982.959961  0.475179  74.610074   77.500000  \n",
       "2013-01-03   5969.283366   5982.959961  0.475179  74.610074   22.549805  \n",
       "2013-01-04   6006.299967   5982.959961  0.475179  74.610074    2.450195  \n",
       "2013-01-07   6004.683268   5982.959961  0.475179  74.610074   26.000000  \n",
       "...                  ...           ...       ...        ...         ...  \n",
       "2021-07-08  15808.600260  15780.735059  0.558481  49.651225  -24.250000  \n",
       "2021-07-09  15765.783529  15763.680078  0.594061  46.781734  -39.650391  \n",
       "2021-07-12  15703.433268  15751.470020  0.608713  47.031680   77.000000  \n",
       "2021-07-13  15731.583008  15757.859961  0.556805  56.696835  101.400391  \n",
       "2021-07-14  15786.299805  15771.104980  0.592572  59.546109   -3.649414  \n",
       "\n",
       "[2091 rows x 9 columns]"
      ]
     },
     "execution_count": 17,
     "metadata": {},
     "output_type": "execute_result"
    }
   ],
   "source": [
    "df['S_3'] = df['Close'].rolling(window=3).mean()\n",
    "df['S_10'] = df['Close'].rolling(window=10).mean()\n",
    "\n",
    "df['Corr'] = df['Close'].rolling(window=10).corr(df['S_3'])\n",
    "\n",
    "df['RSI'] = ta.RSI(np.array(df['Close']), timeperiod =10)\n",
    "df['Open-Close'] = df['Open'] - df['Close'].shift(1)\n",
    "df['Open-Open'] = df['Open'] - df['Open'].shift(1)\n",
    "df = df.fillna(method='backfill')\n",
    "X = df.iloc[:,:9]\n",
    "X\n",
    "\n",
    "\n",
    "\n",
    "# X = Df[['Open', 'S_3', 'S_15', 'S_60', 'OD', 'OL', 'Corr', 'SPY', 'Treasury']]\n"
   ]
  },
  {
   "cell_type": "code",
   "execution_count": 18,
   "metadata": {},
   "outputs": [
    {
     "data": {
      "text/plain": [
       "<AxesSubplot:>"
      ]
     },
     "execution_count": 18,
     "metadata": {},
     "output_type": "execute_result"
    },
    {
     "data": {
      "image/png": "[encoded data removed]",
      "text/plain": [
       "<Figure size 1080x720 with 2 Axes>"
      ]
     },
     "metadata": {
      "needs_background": "light"
     },
     "output_type": "display_data"
    }
   ],
   "source": [
    "cov_matrix = df.cov()\n",
    "corr_matrix = df.corr()\n",
    "plt.figure(figsize=(15, 10))\n",
    "sns.heatmap(df.corr(), annot=True)"
   ]
  },
  {
   "cell_type": "code",
   "execution_count": 19,
   "metadata": {},
   "outputs": [],
   "source": [
    "y = np.where(df['Close'].shift(-1) > df['Close'],1,-1)"
   ]
  },
  {
   "cell_type": "code",
   "execution_count": 20,
   "metadata": {},
   "outputs": [
    {
     "data": {
      "text/html": [
       "<div>\n",
       "<style scoped>\n",
       "    .dataframe tbody tr th:only-of-type {\n",
       "        vertical-align: middle;\n",
       "    }\n",
       "\n",
       "    .dataframe tbody tr th {\n",
       "        vertical-align: top;\n",
       "    }\n",
       "\n",
       "    .dataframe thead th {\n",
       "        text-align: right;\n",
       "    }\n",
       "</style>\n",
       "<table border=\"1\" class=\"dataframe\">\n",
       "  <thead>\n",
       "    <tr style=\"text-align: right;\">\n",
       "      <th></th>\n",
       "      <th>Open</th>\n",
       "      <th>High</th>\n",
       "      <th>Low</th>\n",
       "      <th>Close</th>\n",
       "      <th>S_3</th>\n",
       "      <th>S_10</th>\n",
       "      <th>Corr</th>\n",
       "      <th>RSI</th>\n",
       "      <th>Open-Close</th>\n",
       "    </tr>\n",
       "    <tr>\n",
       "      <th>Date</th>\n",
       "      <th></th>\n",
       "      <th></th>\n",
       "      <th></th>\n",
       "      <th></th>\n",
       "      <th></th>\n",
       "      <th></th>\n",
       "      <th></th>\n",
       "      <th></th>\n",
       "      <th></th>\n",
       "    </tr>\n",
       "  </thead>\n",
       "  <tbody>\n",
       "    <tr>\n",
       "      <th>2012-12-31</th>\n",
       "      <td>5901.200195</td>\n",
       "      <td>5919.000000</td>\n",
       "      <td>5897.149902</td>\n",
       "      <td>5905.100098</td>\n",
       "      <td>5969.283366</td>\n",
       "      <td>5982.959961</td>\n",
       "      <td>0.475179</td>\n",
       "      <td>74.610074</td>\n",
       "      <td>77.500000</td>\n",
       "    </tr>\n",
       "    <tr>\n",
       "      <th>2013-01-02</th>\n",
       "      <td>5982.600098</td>\n",
       "      <td>6006.049805</td>\n",
       "      <td>5982.000000</td>\n",
       "      <td>5993.250000</td>\n",
       "      <td>5969.283366</td>\n",
       "      <td>5982.959961</td>\n",
       "      <td>0.475179</td>\n",
       "      <td>74.610074</td>\n",
       "      <td>77.500000</td>\n",
       "    </tr>\n",
       "    <tr>\n",
       "      <th>2013-01-03</th>\n",
       "      <td>6015.799805</td>\n",
       "      <td>6017.000000</td>\n",
       "      <td>5986.549805</td>\n",
       "      <td>6009.500000</td>\n",
       "      <td>5969.283366</td>\n",
       "      <td>5982.959961</td>\n",
       "      <td>0.475179</td>\n",
       "      <td>74.610074</td>\n",
       "      <td>22.549805</td>\n",
       "    </tr>\n",
       "    <tr>\n",
       "      <th>2013-01-04</th>\n",
       "      <td>6011.950195</td>\n",
       "      <td>6020.750000</td>\n",
       "      <td>5981.549805</td>\n",
       "      <td>6016.149902</td>\n",
       "      <td>6006.299967</td>\n",
       "      <td>5982.959961</td>\n",
       "      <td>0.475179</td>\n",
       "      <td>74.610074</td>\n",
       "      <td>2.450195</td>\n",
       "    </tr>\n",
       "    <tr>\n",
       "      <th>2013-01-07</th>\n",
       "      <td>6042.149902</td>\n",
       "      <td>6042.149902</td>\n",
       "      <td>5977.149902</td>\n",
       "      <td>5988.399902</td>\n",
       "      <td>6004.683268</td>\n",
       "      <td>5982.959961</td>\n",
       "      <td>0.475179</td>\n",
       "      <td>74.610074</td>\n",
       "      <td>26.000000</td>\n",
       "    </tr>\n",
       "    <tr>\n",
       "      <th>...</th>\n",
       "      <td>...</td>\n",
       "      <td>...</td>\n",
       "      <td>...</td>\n",
       "      <td>...</td>\n",
       "      <td>...</td>\n",
       "      <td>...</td>\n",
       "      <td>...</td>\n",
       "      <td>...</td>\n",
       "      <td>...</td>\n",
       "    </tr>\n",
       "    <tr>\n",
       "      <th>2018-12-14</th>\n",
       "      <td>10784.500000</td>\n",
       "      <td>10815.750000</td>\n",
       "      <td>10752.099609</td>\n",
       "      <td>10805.450195</td>\n",
       "      <td>10778.199870</td>\n",
       "      <td>10720.320117</td>\n",
       "      <td>0.763156</td>\n",
       "      <td>57.534607</td>\n",
       "      <td>-7.049805</td>\n",
       "    </tr>\n",
       "    <tr>\n",
       "      <th>2018-12-17</th>\n",
       "      <td>10853.200195</td>\n",
       "      <td>10900.349609</td>\n",
       "      <td>10844.849609</td>\n",
       "      <td>10888.349609</td>\n",
       "      <td>10828.449870</td>\n",
       "      <td>10720.780078</td>\n",
       "      <td>0.746844</td>\n",
       "      <td>61.685711</td>\n",
       "      <td>47.750000</td>\n",
       "    </tr>\n",
       "    <tr>\n",
       "      <th>2018-12-18</th>\n",
       "      <td>10850.900391</td>\n",
       "      <td>10915.400391</td>\n",
       "      <td>10819.099609</td>\n",
       "      <td>10908.700195</td>\n",
       "      <td>10867.500000</td>\n",
       "      <td>10724.700098</td>\n",
       "      <td>0.759435</td>\n",
       "      <td>62.680759</td>\n",
       "      <td>-37.449219</td>\n",
       "    </tr>\n",
       "    <tr>\n",
       "      <th>2018-12-19</th>\n",
       "      <td>10930.549805</td>\n",
       "      <td>10985.150391</td>\n",
       "      <td>10928.000000</td>\n",
       "      <td>10967.299805</td>\n",
       "      <td>10921.449870</td>\n",
       "      <td>10743.140039</td>\n",
       "      <td>0.832839</td>\n",
       "      <td>65.543791</td>\n",
       "      <td>21.849609</td>\n",
       "    </tr>\n",
       "    <tr>\n",
       "      <th>2018-12-20</th>\n",
       "      <td>10885.200195</td>\n",
       "      <td>10962.549805</td>\n",
       "      <td>10880.049805</td>\n",
       "      <td>10951.700195</td>\n",
       "      <td>10942.566732</td>\n",
       "      <td>10778.195020</td>\n",
       "      <td>0.909670</td>\n",
       "      <td>64.089482</td>\n",
       "      <td>-82.099609</td>\n",
       "    </tr>\n",
       "  </tbody>\n",
       "</table>\n",
       "<p>1463 rows × 9 columns</p>\n",
       "</div>"
      ],
      "text/plain": [
       "                    Open          High           Low         Close  \\\n",
       "Date                                                                 \n",
       "2012-12-31   5901.200195   5919.000000   5897.149902   5905.100098   \n",
       "2013-01-02   5982.600098   6006.049805   5982.000000   5993.250000   \n",
       "2013-01-03   6015.799805   6017.000000   5986.549805   6009.500000   \n",
       "2013-01-04   6011.950195   6020.750000   5981.549805   6016.149902   \n",
       "2013-01-07   6042.149902   6042.149902   5977.149902   5988.399902   \n",
       "...                  ...           ...           ...           ...   \n",
       "2018-12-14  10784.500000  10815.750000  10752.099609  10805.450195   \n",
       "2018-12-17  10853.200195  10900.349609  10844.849609  10888.349609   \n",
       "2018-12-18  10850.900391  10915.400391  10819.099609  10908.700195   \n",
       "2018-12-19  10930.549805  10985.150391  10928.000000  10967.299805   \n",
       "2018-12-20  10885.200195  10962.549805  10880.049805  10951.700195   \n",
       "\n",
       "                     S_3          S_10      Corr        RSI  Open-Close  \n",
       "Date                                                                     \n",
       "2012-12-31   5969.283366   5982.959961  0.475179  74.610074   77.500000  \n",
       "2013-01-02   5969.283366   5982.959961  0.475179  74.610074   77.500000  \n",
       "2013-01-03   5969.283366   5982.959961  0.475179  74.610074   22.549805  \n",
       "2013-01-04   6006.299967   5982.959961  0.475179  74.610074    2.450195  \n",
       "2013-01-07   6004.683268   5982.959961  0.475179  74.610074   26.000000  \n",
       "...                  ...           ...       ...        ...         ...  \n",
       "2018-12-14  10778.199870  10720.320117  0.763156  57.534607   -7.049805  \n",
       "2018-12-17  10828.449870  10720.780078  0.746844  61.685711   47.750000  \n",
       "2018-12-18  10867.500000  10724.700098  0.759435  62.680759  -37.449219  \n",
       "2018-12-19  10921.449870  10743.140039  0.832839  65.543791   21.849609  \n",
       "2018-12-20  10942.566732  10778.195020  0.909670  64.089482  -82.099609  \n",
       "\n",
       "[1463 rows x 9 columns]"
      ]
     },
     "execution_count": 20,
     "metadata": {},
     "output_type": "execute_result"
    }
   ],
   "source": [
    "split = int(0.7*len(df))\n",
    "X_train, X_test, y_train, y_test = X[:split], X[split:], y[:split], y[split:]\n",
    "X_train.fillna(method='backfill')"
   ]
  },
  {
   "cell_type": "code",
   "execution_count": 21,
   "metadata": {},
   "outputs": [
    {
     "name": "stdout",
     "output_type": "stream",
     "text": [
      "[[0.60283376 0.39716624]\n",
      " [0.5328961  0.4671039 ]\n",
      " [0.33900942 0.66099058]\n",
      " ...\n",
      " [0.46138132 0.53861868]\n",
      " [0.3848641  0.6151359 ]\n",
      " [0.42813905 0.57186095]]\n"
     ]
    }
   ],
   "source": [
    "model = LogisticRegression()\n",
    "model = model.fit (X_train,y_train)\n",
    "\n",
    "probability = model.predict_proba(X_test)\n",
    "print(probability)"
   ]
  },
  {
   "cell_type": "code",
   "execution_count": 22,
   "metadata": {},
   "outputs": [],
   "source": [
    "predicted = model.predict(X_test)"
   ]
  },
  {
   "cell_type": "code",
   "execution_count": 23,
   "metadata": {},
   "outputs": [
    {
     "name": "stdout",
     "output_type": "stream",
     "text": [
      "              precision    recall  f1-score   support\n",
      "\n",
      "          -1       0.48      0.33      0.39       277\n",
      "           1       0.57      0.72      0.64       351\n",
      "\n",
      "    accuracy                           0.54       628\n",
      "   macro avg       0.53      0.52      0.51       628\n",
      "weighted avg       0.53      0.54      0.53       628\n",
      "\n"
     ]
    }
   ],
   "source": [
    "print(metrics.classification_report(y_test, predicted))"
   ]
  },
  {
   "cell_type": "code",
   "execution_count": 24,
   "metadata": {},
   "outputs": [
    {
     "name": "stderr",
     "output_type": "stream",
     "text": [
      "C:\\Users\\Anton\\anaconda\\lib\\site-packages\\sklearn\\linear_model\\_logistic.py:763: ConvergenceWarning: lbfgs failed to converge (status=1):\n",
      "STOP: TOTAL NO. of ITERATIONS REACHED LIMIT.\n",
      "\n",
      "Increase the number of iterations (max_iter) or scale the data as shown in:\n",
      "    https://scikit-learn.org/stable/modules/preprocessing.html\n",
      "Please also refer to the documentation for alternative solver options:\n",
      "    https://scikit-learn.org/stable/modules/linear_model.html#logistic-regression\n",
      "  n_iter_i = _check_optimize_result(\n"
     ]
    }
   ],
   "source": [
    "cross_val = cross_val_score(LogisticRegression(), X, y, scoring='accuracy', cv=10)\n"
   ]
  },
  {
   "cell_type": "code",
   "execution_count": 25,
   "metadata": {},
   "outputs": [],
   "source": [
    "# Df['Predict close']\n",
    "# df['Close'] = Df['Predict close'].tolist()\n",
    "# df['Close']"
   ]
  },
  {
   "cell_type": "code",
   "execution_count": 26,
   "metadata": {},
   "outputs": [
    {
     "data": {
      "text/plain": [
       "1463    10927.801926\n",
       "1464    10753.136166\n",
       "1465    10619.754302\n",
       "1466    10794.782635\n",
       "1467    10806.320445\n",
       "            ...     \n",
       "2086    15851.363592\n",
       "2087    15684.428896\n",
       "2088    15750.035784\n",
       "2089    15779.162716\n",
       "2090    15712.521118\n",
       "Name: Predict close, Length: 628, dtype: float64"
      ]
     },
     "execution_count": 26,
     "metadata": {},
     "output_type": "execute_result"
    }
   ],
   "source": [
    "Df['Predict close'][split:]"
   ]
  },
  {
   "cell_type": "code",
   "execution_count": 54,
   "metadata": {},
   "outputs": [
    {
     "data": {
      "text/html": [
       "<div>\n",
       "<style scoped>\n",
       "    .dataframe tbody tr th:only-of-type {\n",
       "        vertical-align: middle;\n",
       "    }\n",
       "\n",
       "    .dataframe tbody tr th {\n",
       "        vertical-align: top;\n",
       "    }\n",
       "\n",
       "    .dataframe thead th {\n",
       "        text-align: right;\n",
       "    }\n",
       "</style>\n",
       "<table border=\"1\" class=\"dataframe\">\n",
       "  <thead>\n",
       "    <tr style=\"text-align: right;\">\n",
       "      <th></th>\n",
       "      <th>Open</th>\n",
       "      <th>High</th>\n",
       "      <th>Low</th>\n",
       "      <th>Close</th>\n",
       "      <th>S_10</th>\n",
       "      <th>Corr</th>\n",
       "      <th>RSI</th>\n",
       "      <th>Open-Close</th>\n",
       "      <th>Open-Open</th>\n",
       "    </tr>\n",
       "    <tr>\n",
       "      <th>Date</th>\n",
       "      <th></th>\n",
       "      <th></th>\n",
       "      <th></th>\n",
       "      <th></th>\n",
       "      <th></th>\n",
       "      <th></th>\n",
       "      <th></th>\n",
       "      <th></th>\n",
       "      <th></th>\n",
       "    </tr>\n",
       "  </thead>\n",
       "  <tbody>\n",
       "    <tr>\n",
       "      <th>2018-12-21</th>\n",
       "      <td>10944.250000</td>\n",
       "      <td>10963.650391</td>\n",
       "      <td>10738.650391</td>\n",
       "      <td>10927.801926</td>\n",
       "      <td>10784.225000</td>\n",
       "      <td>0.844817</td>\n",
       "      <td>48.832065</td>\n",
       "      <td>-7.450195</td>\n",
       "      <td>59.049805</td>\n",
       "    </tr>\n",
       "    <tr>\n",
       "      <th>2018-12-24</th>\n",
       "      <td>10780.900391</td>\n",
       "      <td>10782.299805</td>\n",
       "      <td>10649.250000</td>\n",
       "      <td>10753.136166</td>\n",
       "      <td>10801.729980</td>\n",
       "      <td>0.765621</td>\n",
       "      <td>43.557830</td>\n",
       "      <td>26.900391</td>\n",
       "      <td>-163.349609</td>\n",
       "    </tr>\n",
       "    <tr>\n",
       "      <th>2018-12-26</th>\n",
       "      <td>10635.450195</td>\n",
       "      <td>10747.500000</td>\n",
       "      <td>10534.549805</td>\n",
       "      <td>10619.754302</td>\n",
       "      <td>10819.799902</td>\n",
       "      <td>0.659916</td>\n",
       "      <td>48.122223</td>\n",
       "      <td>-28.049805</td>\n",
       "      <td>-145.450195</td>\n",
       "    </tr>\n",
       "    <tr>\n",
       "      <th>2018-12-27</th>\n",
       "      <td>10817.900391</td>\n",
       "      <td>10834.200195</td>\n",
       "      <td>10764.450195</td>\n",
       "      <td>10794.782635</td>\n",
       "      <td>10824.019922</td>\n",
       "      <td>0.665123</td>\n",
       "      <td>51.409150</td>\n",
       "      <td>88.050781</td>\n",
       "      <td>182.450195</td>\n",
       "    </tr>\n",
       "    <tr>\n",
       "      <th>2018-12-28</th>\n",
       "      <td>10820.950195</td>\n",
       "      <td>10893.599609</td>\n",
       "      <td>10817.150391</td>\n",
       "      <td>10806.320445</td>\n",
       "      <td>10830.854980</td>\n",
       "      <td>0.673589</td>\n",
       "      <td>56.338233</td>\n",
       "      <td>41.150391</td>\n",
       "      <td>3.049805</td>\n",
       "    </tr>\n",
       "    <tr>\n",
       "      <th>...</th>\n",
       "      <td>...</td>\n",
       "      <td>...</td>\n",
       "      <td>...</td>\n",
       "      <td>...</td>\n",
       "      <td>...</td>\n",
       "      <td>...</td>\n",
       "      <td>...</td>\n",
       "      <td>...</td>\n",
       "      <td>...</td>\n",
       "    </tr>\n",
       "    <tr>\n",
       "      <th>2021-07-08</th>\n",
       "      <td>15855.400391</td>\n",
       "      <td>15885.750000</td>\n",
       "      <td>15682.900391</td>\n",
       "      <td>15851.363592</td>\n",
       "      <td>15780.735059</td>\n",
       "      <td>0.558481</td>\n",
       "      <td>49.651225</td>\n",
       "      <td>-24.250000</td>\n",
       "      <td>35.800781</td>\n",
       "    </tr>\n",
       "    <tr>\n",
       "      <th>2021-07-09</th>\n",
       "      <td>15688.250000</td>\n",
       "      <td>15730.849609</td>\n",
       "      <td>15632.750000</td>\n",
       "      <td>15684.428896</td>\n",
       "      <td>15763.680078</td>\n",
       "      <td>0.594061</td>\n",
       "      <td>46.781734</td>\n",
       "      <td>-39.650391</td>\n",
       "      <td>-167.150391</td>\n",
       "    </tr>\n",
       "    <tr>\n",
       "      <th>2021-07-12</th>\n",
       "      <td>15766.799805</td>\n",
       "      <td>15789.200195</td>\n",
       "      <td>15644.750000</td>\n",
       "      <td>15750.035784</td>\n",
       "      <td>15751.470020</td>\n",
       "      <td>0.608713</td>\n",
       "      <td>47.031680</td>\n",
       "      <td>77.000000</td>\n",
       "      <td>78.549805</td>\n",
       "    </tr>\n",
       "    <tr>\n",
       "      <th>2021-07-13</th>\n",
       "      <td>15794.000000</td>\n",
       "      <td>15820.799805</td>\n",
       "      <td>15744.599609</td>\n",
       "      <td>15779.162716</td>\n",
       "      <td>15757.859961</td>\n",
       "      <td>0.556805</td>\n",
       "      <td>56.696835</td>\n",
       "      <td>101.400391</td>\n",
       "      <td>27.200195</td>\n",
       "    </tr>\n",
       "    <tr>\n",
       "      <th>2021-07-14</th>\n",
       "      <td>15808.700195</td>\n",
       "      <td>15877.349609</td>\n",
       "      <td>15764.200195</td>\n",
       "      <td>15712.521118</td>\n",
       "      <td>15771.104980</td>\n",
       "      <td>0.592572</td>\n",
       "      <td>59.546109</td>\n",
       "      <td>-3.649414</td>\n",
       "      <td>14.700195</td>\n",
       "    </tr>\n",
       "  </tbody>\n",
       "</table>\n",
       "<p>628 rows × 9 columns</p>\n",
       "</div>"
      ],
      "text/plain": [
       "                    Open          High           Low         Close  \\\n",
       "Date                                                                 \n",
       "2018-12-21  10944.250000  10963.650391  10738.650391  10927.801926   \n",
       "2018-12-24  10780.900391  10782.299805  10649.250000  10753.136166   \n",
       "2018-12-26  10635.450195  10747.500000  10534.549805  10619.754302   \n",
       "2018-12-27  10817.900391  10834.200195  10764.450195  10794.782635   \n",
       "2018-12-28  10820.950195  10893.599609  10817.150391  10806.320445   \n",
       "...                  ...           ...           ...           ...   \n",
       "2021-07-08  15855.400391  15885.750000  15682.900391  15851.363592   \n",
       "2021-07-09  15688.250000  15730.849609  15632.750000  15684.428896   \n",
       "2021-07-12  15766.799805  15789.200195  15644.750000  15750.035784   \n",
       "2021-07-13  15794.000000  15820.799805  15744.599609  15779.162716   \n",
       "2021-07-14  15808.700195  15877.349609  15764.200195  15712.521118   \n",
       "\n",
       "                    S_10      Corr        RSI  Open-Close   Open-Open  \n",
       "Date                                                                   \n",
       "2018-12-21  10784.225000  0.844817  48.832065   -7.450195   59.049805  \n",
       "2018-12-24  10801.729980  0.765621  43.557830   26.900391 -163.349609  \n",
       "2018-12-26  10819.799902  0.659916  48.122223  -28.049805 -145.450195  \n",
       "2018-12-27  10824.019922  0.665123  51.409150   88.050781  182.450195  \n",
       "2018-12-28  10830.854980  0.673589  56.338233   41.150391    3.049805  \n",
       "...                  ...       ...        ...         ...         ...  \n",
       "2021-07-08  15780.735059  0.558481  49.651225  -24.250000   35.800781  \n",
       "2021-07-09  15763.680078  0.594061  46.781734  -39.650391 -167.150391  \n",
       "2021-07-12  15751.470020  0.608713  47.031680   77.000000   78.549805  \n",
       "2021-07-13  15757.859961  0.556805  56.696835  101.400391   27.200195  \n",
       "2021-07-14  15771.104980  0.592572  59.546109   -3.649414   14.700195  \n",
       "\n",
       "[628 rows x 9 columns]"
      ]
     },
     "execution_count": 54,
     "metadata": {},
     "output_type": "execute_result"
    }
   ],
   "source": [
    "\n",
    "# df['Close'][split:] = Df['Predict close'][split:].tolist() \n",
    "\n",
    "# df['Open'][-1] = Df['Predict close'].tolist()[-1] \n",
    "\n",
    "X2 = df[['Open', 'High', 'Low', 'Close', 'S_10', 'Corr', 'RSI', 'Open-Close', 'Open-Open']]\n",
    "X2[split:]"
   ]
  },
  {
   "cell_type": "code",
   "execution_count": 60,
   "metadata": {},
   "outputs": [
    {
     "data": {
      "image/png": "[encoded data removed]",
      "text/plain": [
       "<Figure size 720x360 with 1 Axes>"
      ]
     },
     "metadata": {
      "needs_background": "light"
     },
     "output_type": "display_data"
    },
    {
     "data": {
      "text/plain": [
       "Date\n",
       "2012-12-31         NaN\n",
       "2013-01-02    0.014817\n",
       "2013-01-03    0.002708\n",
       "2013-01-04    0.001106\n",
       "2013-01-07   -0.004623\n",
       "                ...   \n",
       "2021-07-08    0.002322\n",
       "2021-07-09   -0.010587\n",
       "2021-07-12    0.004174\n",
       "2021-07-13    0.001848\n",
       "2021-07-14   -0.004232\n",
       "Name: Nifty_returns, Length: 2091, dtype: float64"
      ]
     },
     "execution_count": 60,
     "metadata": {},
     "output_type": "execute_result"
    }
   ],
   "source": [
    "\n",
    "df['Predicted_Signal'] = model.predict(X)\n",
    "df['Nifty_returns'] = np.log(df['Close']/df['Close'].shift(1))\n",
    "Cumulative_Nifty_returns = np.cumsum(df[split:]['Nifty_returns'])\n",
    "\n",
    "df['Startegy_returns'] = df['Nifty_returns']* df['Predicted_Signal'].shift(1)\n",
    "Cumulative_Strategy_returns = np.cumsum(df[split:]['Startegy_returns'])\n",
    "\n",
    "plt.figure(figsize=(10,5))\n",
    "plt.plot(Cumulative_Nifty_returns, color='r',label = 'Nifty Returns')\n",
    "plt.plot(Cumulative_Strategy_returns, color='g', label = 'Strategy Returns')\n",
    "plt.legend()\n",
    "plt.show()\n",
    "df['Predicted_Signal'][::-1].head(50)\n",
    "df['Nifty_returns']"
   ]
  },
  {
   "cell_type": "code",
   "execution_count": 58,
   "metadata": {},
   "outputs": [
    {
     "data": {
      "text/plain": [
       "0      -1\n",
       "1      -1\n",
       "2      -1\n",
       "3      -1\n",
       "4      -1\n",
       "       ..\n",
       "2086   -1\n",
       "2087   -1\n",
       "2088   -1\n",
       "2089   -1\n",
       "2090   -1\n",
       "Name: Predicted_Signal, Length: 2091, dtype: int32"
      ]
     },
     "execution_count": 58,
     "metadata": {},
     "output_type": "execute_result"
    }
   ],
   "source": [
    " df_res['Predicted_Signal'] "
   ]
  },
  {
   "cell_type": "code",
   "execution_count": 59,
   "metadata": {},
   "outputs": [
    {
     "data": {
      "text/plain": [
       "Date\n",
       "2018-12-21   -0.002185\n",
       "2018-12-24   -0.016113\n",
       "2018-12-26   -0.012482\n",
       "2018-12-27    0.016347\n",
       "2018-12-28    0.001068\n",
       "                ...   \n",
       "2021-07-08    0.002322\n",
       "2021-07-09   -0.010587\n",
       "2021-07-12    0.004174\n",
       "2021-07-13    0.001848\n",
       "2021-07-14   -0.004232\n",
       "Name: Nifty_returns, Length: 628, dtype: float64"
      ]
     },
     "execution_count": 59,
     "metadata": {},
     "output_type": "execute_result"
    }
   ],
   "source": [
    "df[split:]['Nifty_returns']"
   ]
  },
  {
   "cell_type": "code",
   "execution_count": null,
   "metadata": {},
   "outputs": [],
   "source": []
  },
  {
   "cell_type": "code",
   "execution_count": 44,
   "metadata": {},
   "outputs": [
    {
     "data": {
      "text/plain": [
       "array([-2.18453593e-03, -1.61127288e-02, -1.24815683e-02,  1.63470479e-02,\n",
       "        1.06826133e-03,  8.33441908e-03, -3.73039663e-03, -7.12177704e-03,\n",
       "       -9.21452909e-03,  9.65067349e-03, -7.77506506e-04,  6.46481443e-03,\n",
       "        3.62437095e-04, -2.53265704e-03, -2.70241808e-03, -2.91600191e-03,\n",
       "        1.18818136e-02,  1.83571039e-03, -4.13237986e-04, -3.53654901e-03,\n",
       "        6.90206866e-03, -2.00694578e-03, -8.24182620e-03,  1.66532754e-03,\n",
       "       -6.26071574e-03, -1.29270263e-02,  4.29223725e-03, -5.95326169e-04,\n",
       "        1.53657937e-02,  2.71496889e-03,  2.45392393e-03,  4.75493507e-03,\n",
       "        9.92306738e-03, -3.82445584e-03, -9.22447181e-03, -4.62864874e-03,\n",
       "       -8.12880395e-03, -1.31343882e-03, -7.73521534e-03, -5.02525019e-03,\n",
       "        1.26128240e-03,  9.10911497e-03,  3.81105025e-03,  2.28819447e-03,\n",
       "       -2.24629343e-03,  8.02589467e-03, -1.55629642e-03, -1.88184827e-03,\n",
       "        2.65690254e-03,  1.43642309e-02,  4.83695980e-03, -3.38137934e-03,\n",
       "        2.10123069e-03,  1.45953715e-02,  9.01100888e-03,  4.51795942e-03,\n",
       "       -6.33909259e-04,  8.42100418e-03,  2.39372562e-03,  4.65109114e-03,\n",
       "       -6.34362460e-04, -1.28053556e-02, -2.74221197e-03,  1.37697723e-02,\n",
       "       -5.54354648e-03,  1.67785523e-02,  4.65664906e-03,  1.97783834e-03,\n",
       "       -6.65796997e-03, -2.17368854e-03,  5.93619061e-03, -7.73159506e-03,\n",
       "        3.28902134e-03, -5.08558239e-03,  1.66529566e-03,  4.72843117e-03,\n",
       "        5.74648156e-03,  1.00830749e-02, -1.01975838e-02, -1.06241360e-02,\n",
       "       -9.32500461e-04,  1.21293336e-02, -4.85036655e-03,  5.97926452e-03,\n",
       "       -1.87790534e-03, -5.96428803e-04, -9.08437593e-03,  2.14575426e-03,\n",
       "       -1.41691085e-02, -1.35526919e-02, -1.20237663e-03, -4.25102676e-03,\n",
       "       -9.79911994e-03,  1.05889608e-02, -7.65210301e-03,  7.42232545e-03,\n",
       "        3.21051042e-02,  2.05386735e-02, -1.21944397e-02,  1.27576322e-02,\n",
       "       -1.20666219e-02,  5.96544188e-03,  1.24847140e-02, -4.26322552e-03,\n",
       "       -3.93647659e-03,  1.08975424e-02, -3.61254280e-03,  9.04905906e-03,\n",
       "       -1.65936263e-03, -1.50564336e-02,  5.69088564e-03,  2.67578124e-03,\n",
       "        5.05795130e-04, -7.39330710e-03,  2.70305951e-03, -5.77828237e-03,\n",
       "       -1.40918973e-02,  5.62609636e-03, -6.57393982e-03,  1.45515944e-02,\n",
       "       -8.85674401e-03, -3.91817548e-03,  7.82049870e-03,  7.54973162e-03,\n",
       "       -1.69862322e-04, -2.17383854e-03,  4.74722424e-03,  3.52579776e-03,\n",
       "       -4.54272706e-03,  7.36228270e-03, -1.61385252e-02, -2.11102011e-02,\n",
       "        7.31090162e-04,  1.86922597e-03,  4.12883903e-03,  7.52304790e-04,\n",
       "       -1.11333943e-03,  6.39019155e-03,  5.59723544e-04, -4.81240024e-03,\n",
       "       -2.01534401e-02, -2.14886206e-03, -3.59333772e-03, -3.06350463e-03,\n",
       "       -3.43773736e-03,  5.19875325e-03, -8.42765573e-03, -1.56652438e-02,\n",
       "        2.53668257e-03, -1.19707091e-02, -2.84339026e-03, -7.81340312e-03,\n",
       "        1.28156834e-02, -5.39020886e-03,  1.72024323e-02,  5.09612146e-03,\n",
       "       -1.36296326e-02,  4.53913732e-03,  4.58741440e-03, -2.62499845e-03,\n",
       "       -4.11940452e-03, -1.02959692e-02, -1.91570456e-02,  2.61398941e-02,\n",
       "        1.15945108e-02, -2.83814783e-04, -9.56452358e-03, -1.88367432e-03,\n",
       "       -1.17185605e-03, -1.64503696e-02,  6.50372369e-03,  2.32978656e-03,\n",
       "        5.38052689e-03,  8.03550858e-03,  2.65792997e-03, -6.48776967e-03,\n",
       "        1.59052895e-03, -4.14040899e-04, -1.25461920e-02, -1.72053384e-03,\n",
       "       -9.44671700e-03,  7.01813232e-02,  7.30412525e-03, -3.45336304e-03,\n",
       "       -9.52422355e-03,  8.18610466e-03, -5.53592156e-03,  1.17121404e-03,\n",
       "       -1.62838129e-02,  4.82103251e-03, -1.64945207e-02, -4.00588957e-03,\n",
       "        1.25536899e-02, -2.61423050e-03,  6.70659486e-03,  2.49974397e-03,\n",
       "        8.89778405e-03,  4.11617860e-04,  9.92389446e-03,  6.64401693e-03,\n",
       "       -5.64365619e-03,  5.14989122e-03, -1.21502703e-03, -1.37326190e-04,\n",
       "        2.02411019e-02,  1.12604796e-03, -3.16031297e-04,  3.18114184e-03,\n",
       "        3.89220229e-03, -5.03671389e-03,  8.59192215e-03, -1.97604044e-03,\n",
       "       -9.37444184e-03,  2.22602022e-03, -4.31659351e-03,  3.82303242e-03,\n",
       "        1.16705155e-03,  1.28116990e-04,  6.90423667e-03,  2.16308632e-03,\n",
       "       -4.79592720e-03, -3.97164815e-03,  1.57366286e-02, -3.33161601e-03,\n",
       "        3.86764071e-04,  6.15242267e-03, -1.71131944e-03, -5.22254234e-03,\n",
       "       -7.72288705e-03,  8.03656789e-03, -1.83954473e-03, -9.17095704e-03,\n",
       "        1.11307969e-03, -6.86501875e-03,  6.43195221e-03,  6.89829730e-03,\n",
       "        8.85705698e-03, -4.10318158e-03,  9.39883121e-03,  2.57471240e-03,\n",
       "        3.35425752e-03, -2.22105603e-03,  2.12963227e-03, -4.46179299e-03,\n",
       "       -3.72592819e-03,  8.76098920e-03, -1.86187574e-03, -9.35094934e-03,\n",
       "        4.86857511e-03,  5.58866087e-03, -7.25247277e-03, -9.26493955e-03,\n",
       "       -9.41624754e-03,  1.58562452e-02,  1.06911490e-02,  2.20753945e-03,\n",
       "        3.02455004e-03,  1.41547859e-03, -4.09170885e-04, -1.22823390e-03,\n",
       "        2.29492573e-03, -1.32039827e-02,  1.07721248e-03, -7.28855005e-03,\n",
       "        4.47933663e-03,  2.25012060e-03, -4.96845909e-03, -3.03657040e-03,\n",
       "        3.44529423e-03, -4.54959907e-03, -3.63698032e-02,  9.37667726e-03,\n",
       "        2.01112818e-02,  9.81693937e-03,  2.26706808e-03, -4.14726755e-03,\n",
       "       -2.76138713e-04,  4.13703363e-03,  5.98294079e-03, -2.57670273e-03,\n",
       "       -1.03480582e-02, -2.96814719e-03,  4.17307773e-03,  3.64330386e-03,\n",
       "       -8.79575899e-03, -1.31395522e-02, -1.05487604e-02, -7.18244372e-03,\n",
       "       -2.20306765e-02, -3.85955694e-03, -1.36272560e-02,  1.34082359e-02,\n",
       "       -4.39284381e-03, -2.93913253e-02, -2.06562202e-02, -4.05486782e-02,\n",
       "       -2.55350129e-02, -9.65610940e-02,  5.00619560e-02, -3.61136921e-02,\n",
       "       -2.22434315e-02, -1.12055561e-01,  2.08570391e-02, -2.81130897e-02,\n",
       "       -2.86043067e-02, -8.34575615e-03,  8.94150602e-02,  5.51224260e-02,\n",
       "       -5.83360936e-02,  7.97871756e-03,  1.08413687e-02, -2.85243323e-02,\n",
       "        7.46435470e-03,  3.68628676e-02,  2.74998521e-02,  1.67045530e-02,\n",
       "        7.02859118e-03, -3.54480523e-02,  4.74252731e-02,  1.03550793e-02,\n",
       "       -3.72076711e-02, -3.79670288e-03,  2.33974017e-02, -4.46442096e-03,\n",
       "        6.41146433e-03,  1.42710413e-02,  3.46420313e-03,  3.37443247e-02,\n",
       "       -1.68263667e-02, -1.82853398e-02, -2.03433121e-02,  2.63293744e-03,\n",
       "        1.29636732e-02, -1.88534926e-03, -1.76996365e-02,  3.85849200e-02,\n",
       "       -3.20557266e-02, -7.05144050e-03, -2.10106834e-03, -2.32324708e-02,\n",
       "       -5.95441184e-03,  2.17786792e-02, -8.20094541e-04,  1.88601308e-03,\n",
       "       -1.63037110e-03,  3.11907487e-02,  7.54311383e-03,  2.87661129e-02,\n",
       "        1.70913890e-02,  2.18797950e-02, -4.31072201e-03,  2.79380359e-03,\n",
       "        2.17701226e-02, -1.23627707e-02, -1.16070166e-02,  2.14805272e-03,\n",
       "       -5.24055128e-02,  3.47326161e-02,  7.53097637e-03, -1.10005396e-02,\n",
       "       -1.66272067e-03,  2.51970383e-02,  1.93422707e-02,  2.95444342e-03,\n",
       "        1.68459771e-02, -2.72867372e-02,  1.16692304e-02, -4.02654524e-03,\n",
       "        5.16821566e-03, -5.07580029e-03,  1.61490111e-02,  6.39207216e-03,\n",
       "        1.49135593e-02,  8.06337950e-03,  1.51801302e-03, -6.67439430e-03,\n",
       "        2.01452244e-03,  6.66209203e-03, -7.86847297e-03, -6.40414795e-03,\n",
       "        7.11822115e-04,  5.50831844e-03,  2.19817065e-02,  1.14152303e-02,\n",
       "        9.70864448e-03, -8.41722253e-03,  1.73030060e-03,  5.75815701e-03,\n",
       "       -6.41689837e-03,  1.17775651e-02, -2.89906615e-03, -1.03555492e-02,\n",
       "       -6.71045707e-03, -1.09118271e-02,  1.94604976e-02,  2.75839408e-03,\n",
       "        8.11891088e-04,  6.66389540e-03,  4.57926007e-03, -1.97594707e-03,\n",
       "        3.25588007e-03,  1.40539697e-03, -9.47632049e-03,  1.74809340e-03,\n",
       "        1.67040468e-02, -1.04326498e-02,  5.80752095e-03,  1.12967468e-03,\n",
       "        9.00181212e-03,  2.18941864e-05,  8.14447800e-03, -3.47564157e-04,\n",
       "        1.41208580e-02, -2.67470226e-02,  2.01837745e-03,  7.46359777e-03,\n",
       "       -1.68251389e-02, -7.81220623e-03,  7.58730423e-03, -1.25343767e-02,\n",
       "        1.07798047e-02,  8.73917356e-03,  7.34436005e-03, -4.50915006e-03,\n",
       "        4.76730040e-03,  8.36928296e-04,  2.18550814e-03, -6.33495982e-03,\n",
       "       -1.84367444e-02, -4.44363545e-03, -1.95451881e-02, -1.16905210e-02,\n",
       "        2.20422278e-02,  1.40740894e-02, -4.01470805e-03,  9.48170211e-03,\n",
       "        1.16287496e-02,  9.55521221e-03,  7.37163105e-03,  1.24707045e-02,\n",
       "        2.14570120e-03,  9.82804002e-03, -2.94270803e-03, -1.54350923e-03,\n",
       "        8.21111364e-03, -2.52545744e-02,  1.22250953e-02,  2.40738842e-04,\n",
       "        7.16909087e-03, -4.84466373e-03,  4.48180235e-03, -1.27389500e-03,\n",
       "       -1.15412636e-02,  9.70589663e-03, -2.33488373e-02,  2.56244601e-03,\n",
       "        1.70058365e-03,  3.46438684e-03,  5.45478650e-03,  2.18481713e-02,\n",
       "        8.99905196e-03,  1.88632996e-02,  1.29255898e-02,  1.01564830e-02,\n",
       "        2.13889302e-03, -3.86179198e-03,  1.92795847e-02, -3.37436145e-03,\n",
       "       -1.17945082e-03, -3.83011754e-03,  1.11709357e-02,  3.90799078e-03,\n",
       "        9.67796663e-03, -2.29859254e-02,  1.39274172e-02,  3.51101369e-03,\n",
       "        5.22304483e-03,  6.31781573e-03, -2.41395525e-03,  6.97621510e-03,\n",
       "        9.45573109e-03,  4.35806487e-03,  3.11634982e-03,  9.01965824e-04,\n",
       "        4.08157204e-03, -1.02471083e-03,  7.58522740e-03,  4.40433379e-03,\n",
       "        3.65702431e-03, -1.51753570e-03, -2.84027375e-02,  8.08702514e-03,\n",
       "        1.48514523e-02,  1.04966943e-02,  6.96791189e-03,  4.81784373e-03,\n",
       "       -3.86025809e-04,  8.32501013e-03, -4.27446889e-04,  1.08758850e-02,\n",
       "        3.54740933e-04,  2.59605957e-04,  1.52492380e-02,  1.06798832e-03,\n",
       "        1.04297822e-02, -5.66476529e-03,  2.70317495e-03, -1.53640890e-02,\n",
       "       -9.87273883e-04,  1.27694877e-02,  1.28551860e-02, -9.81425911e-03,\n",
       "       -8.57946831e-03, -1.60694390e-02, -2.92719703e-02,  7.52733109e-03,\n",
       "       -1.28703455e-02,  5.17950296e-02,  1.99058613e-02,  2.28509357e-03,\n",
       "        1.01412417e-02,  6.81900310e-03,  7.39447473e-03, -2.90861602e-03,\n",
       "       -2.99794592e-03,  7.23154805e-03, -4.42106380e-04,  1.24476010e-02,\n",
       "       -5.46482252e-03, -3.58087221e-03, -1.03766075e-02, -5.66813993e-03,\n",
       "       -1.53219266e-02, -2.47230645e-03,  2.34236665e-02, -1.05992473e-02,\n",
       "       -1.63784826e-02,  1.21504582e-02,  1.36851725e-02, -5.06797146e-05,\n",
       "       -4.75238010e-03,  2.84968140e-05,  3.54105946e-03,  1.04369573e-02,\n",
       "        7.64825232e-03, -1.73385560e-02, -4.12437707e-03, -2.86073817e-03,\n",
       "       -7.02040389e-03, -2.45601540e-02,  1.79814022e-02,  2.06154680e-03,\n",
       "       -3.00318879e-03, -1.09275790e-02, -5.57432230e-03,  9.60551796e-03,\n",
       "        1.40972288e-02, -2.49309883e-03,  3.68633646e-03, -7.94178459e-03,\n",
       "       -8.82015515e-04,  1.10134141e-02,  8.57731996e-04, -1.49609738e-02,\n",
       "       -2.18769632e-02,  1.19161106e-02,  6.02450957e-03, -1.81233791e-02,\n",
       "        1.10238759e-02, -1.91717681e-02,  7.87063098e-03,  7.19638471e-03,\n",
       "        3.99723413e-03,  1.45677742e-02,  1.78045322e-02, -1.39464198e-02,\n",
       "       -1.89820582e-02,  1.26861741e-02, -5.66930714e-03,  5.08173136e-03,\n",
       "        1.00240557e-02,  7.23687900e-03, -7.63929724e-03,  6.84489974e-04,\n",
       "       -5.52852178e-03,  4.76894551e-04,  2.08075250e-02,  9.45633489e-04,\n",
       "       -2.03462664e-03, -4.44352803e-03,  1.57026824e-02,  4.89985936e-03,\n",
       "       -2.22189293e-03,  4.56931914e-03,  5.88651485e-03, -4.21151853e-03,\n",
       "        1.78877765e-02, -6.46194893e-03,  7.45872057e-03,  4.31291760e-03,\n",
       "        4.38666671e-04,  3.27783042e-03, -5.78862650e-04, -5.10663030e-03,\n",
       "        6.78599694e-03,  2.75458402e-04,  4.14068998e-03, -7.43627644e-04,\n",
       "       -1.22400588e-02,  5.32253847e-03, -1.28699851e-02,  1.83993718e-02,\n",
       "        1.66319509e-03, -7.81860986e-03,  6.57077872e-03,  4.91491674e-03,\n",
       "       -6.55973610e-03, -2.36823324e-03, -1.30034367e-03, -2.94395933e-03,\n",
       "       -6.60616827e-04,  8.08501116e-03,  7.76845374e-05,  2.32229169e-03,\n",
       "       -1.05870975e-02,  4.17420716e-03,  1.84761692e-03, -4.23233629e-03])"
      ]
     },
     "execution_count": 44,
     "metadata": {},
     "output_type": "execute_result"
    }
   ],
   "source": [
    "df[split:]['Nifty_returns'].values"
   ]
  },
  {
   "cell_type": "code",
   "execution_count": null,
   "metadata": {},
   "outputs": [],
   "source": []
  }
 ],
 "metadata": {
  "kernelspec": {
   "display_name": "Python 3",
   "language": "python",
   "name": "python3"
  },
  "language_info": {
   "codemirror_mode": {
    "name": "ipython",
    "version": 3
   },
   "file_extension": ".py",
   "mimetype": "text/x-python",
   "name": "python",
   "nbconvert_exporter": "python",
   "pygments_lexer": "ipython3",
   "version": "3.8.8"
  }
 },
 "nbformat": 4,
 "nbformat_minor": 4
}
